{
 "cells": [
  {
   "cell_type": "markdown",
   "id": "5b98a810",
   "metadata": {},
   "source": [
    "# Penalty Method"
   ]
  },
  {
   "cell_type": "code",
   "execution_count": 80,
   "id": "ca7f2333",
   "metadata": {},
   "outputs": [],
   "source": [
    "import numpy as np\n",
    "import matplotlib.pylab as plt\n",
    "from scipy.optimize import minimize\n",
    "import numpy.linalg as li\n",
    "\n",
    "def Penalty(n,eta):   \n",
    "    u=np.zeros(n)\n",
    "    a=A(n)\n",
    "    b=np.ones(n)\n",
    "    k=0\n",
    "    D,V=li.eig(a)\n",
    "    p=2/(np.max(D)+np.min(D))\n",
    "    err=1e-6\n",
    "    w=np.zeros(n)\n",
    "    x1=np.array([0,1])\n",
    "    gn=g(x1)\n",
    "    start_time=time.time()\n",
    "    while (err>=1e-6)&(k<=20000):\n",
    "        for i in range(0,n):\n",
    "            w[i]=2*max((gn[i]-u[i]),0)    \n",
    "        d=b-np.dot(a,u)+1/eta*w\n",
    "        u=u+p*d\n",
    "        err=p*np.linalg.norm(d)\n",
    "        k=k+1\n",
    "    print(\"eta=\",eta)\n",
    "  \n",
    "    print(\"The number of necessary iterations is:\")\n",
    "    print(k)\n",
    "    end_time = time.time()\n",
    "    print(\"The execution time for this script is:\")\n",
    "    print(end_time-start_time)\n",
    "    print(\"\\n\")\n",
    "    "
   ]
  },
  {
   "cell_type": "code",
   "execution_count": 81,
   "id": "e8d519b1",
   "metadata": {},
   "outputs": [
    {
     "name": "stdout",
     "output_type": "stream",
     "text": [
      "eta= 1.0\n",
      "The number of necessary iterations is:\n",
      "18\n",
      "The execution time for this script is:\n",
      "0.007997274398803711\n",
      "\n",
      "\n",
      "eta= 1\n",
      "The number of necessary iterations is:\n",
      "18\n",
      "The execution time for this script is:\n",
      "0.0\n",
      "\n",
      "\n",
      "eta= 10\n",
      "The number of necessary iterations is:\n",
      "18\n",
      "The execution time for this script is:\n",
      "0.0\n",
      "\n",
      "\n",
      "eta= 100.0\n",
      "The number of necessary iterations is:\n",
      "18\n",
      "The execution time for this script is:\n",
      "0.0\n",
      "\n",
      "\n",
      "eta= 1000.0\n",
      "The number of necessary iterations is:\n",
      "18\n",
      "The execution time for this script is:\n",
      "0.008000850677490234\n",
      "\n",
      "\n",
      "eta= 10000.0\n",
      "The number of necessary iterations is:\n",
      "18\n",
      "The execution time for this script is:\n",
      "0.0\n",
      "\n",
      "\n",
      "eta= 100000.0\n",
      "The number of necessary iterations is:\n",
      "18\n",
      "The execution time for this script is:\n",
      "0.0\n",
      "\n",
      "\n"
     ]
    }
   ],
   "source": [
    "v=[10e-1,1,10,10e1,10e2,10e3,10e4]\n",
    "for j in v:\n",
    "  Penalty(2,j)"
   ]
  },
  {
   "cell_type": "code",
   "execution_count": null,
   "id": "a61aa8cb",
   "metadata": {},
   "outputs": [],
   "source": []
  },
  {
   "cell_type": "code",
   "execution_count": null,
   "id": "0acd0bd6",
   "metadata": {},
   "outputs": [],
   "source": []
  }
 ],
 "metadata": {
  "kernelspec": {
   "display_name": "Python 3 (ipykernel)",
   "language": "python",
   "name": "python3"
  },
  "language_info": {
   "codemirror_mode": {
    "name": "ipython",
    "version": 3
   },
   "file_extension": ".py",
   "mimetype": "text/x-python",
   "name": "python",
   "nbconvert_exporter": "python",
   "pygments_lexer": "ipython3",
   "version": "3.9.13"
  }
 },
 "nbformat": 4,
 "nbformat_minor": 5
}
